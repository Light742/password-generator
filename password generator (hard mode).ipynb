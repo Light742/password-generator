{
 "cells": [
  {
   "cell_type": "code",
   "execution_count": null,
   "id": "d5c3e630",
   "metadata": {},
   "outputs": [],
   "source": [
    "import random\n",
    "print(\"Welcome to password generator!\")\n",
    "letters = ['a', 'b', 'c', 'd', 'e', 'f', 'g', 'h', 'i', 'j', 'k', 'l', 'm', 'n', 'o', 'p', 'q', 'r', 's', 't', 'u', 'v', 'w', 'x', 'y', 'z', 'A', 'B', 'C', 'D', 'E', 'F', 'G', 'H', 'I', 'J', 'K', 'L', 'M', 'N', 'O', 'P', 'Q', 'R', 'S', 'T', 'U', 'V', 'W', 'X', 'Y', 'Z']\n",
    "numbers = ['0', '1', '2', '3', '4', '5', '6', '7', '8', '9']\n",
    "symbols = ['!', '#', '$', '%', '&', '(', ')', '*', '+']\n",
    "\n",
    "print(\"Welcome to the PyPassword Generator!\")\n",
    "nr_letters= int(input(\"How many letters would you like in your password?\\n\")) \n",
    "nr_symbols = int(input(f\"How many symbols would you like?\\n\"))\n",
    "nr_numbers = int(input(f\"How many numbers would you like?\\n\"))\n",
    "\n",
    "for l in range(0,nr_letters + 1):\n",
    "    letterp = letters\n",
    "    "
   ]
  },
  {
   "cell_type": "code",
   "execution_count": 91,
   "id": "f20b39dd",
   "metadata": {},
   "outputs": [
    {
     "name": "stdout",
     "output_type": "stream",
     "text": [
      "how many letters do you wish to pull out?5\n",
      "how many numbers do you wish to use?5\n",
      "how many symbols do you wish to use?9\n",
      "Your new password is i6(R6e#Q1*+)!*7+2*L\n"
     ]
    }
   ],
   "source": [
    "#how to get random letters in a list?\n",
    "import random\n",
    "x = input(\"how many letters do you wish to pull out?\")\n",
    "num = input(\"how many numbers do you wish to use?\")\n",
    "sym = input(\"how many symbols do you wish to use?\")\n",
    "letters = ['a', 'b', 'c', 'd', 'e', 'f', 'g', 'h', 'i', 'j', 'k', 'l', 'm', 'n', 'o', 'p', 'q', 'r', 's', 't', 'u', 'v', 'w', 'x', 'y', 'z', 'A', 'B', 'C', 'D', 'E', 'F', 'G', 'H', 'I', 'J', 'K', 'L', 'M', 'N', 'O', 'P', 'Q', 'R', 'S', 'T', 'U', 'V', 'W', 'X', 'Y', 'Z']\n",
    "numbers = ['0', '1', '2', '3', '4', '5', '6', '7', '8', '9']\n",
    "symbols = ['!', '#', '$', '%', '&', '(', ')', '*', '+']\n",
    "y = int(x)\n",
    "password = \"\"\n",
    "for i in range(0,y):\n",
    "    letter_pass = (random.choice(letters))\n",
    "    password += letter_pass\n",
    "   \n",
    "numint = int(num)\n",
    "for j in range(0, numint):\n",
    "    number_pass = random.choice(numbers)\n",
    "    password += number_pass\n",
    "    \n",
    "symint = int(sym)\n",
    "for k in range(0, symint):\n",
    "    symbol_pass = random.choice(symbols)\n",
    "    password += symbol_pass\n",
    "\n",
    "password_list = list(password)\n",
    "random.shuffle(password_list)\n",
    "new_password =\"\".join(password_list)\n",
    "print(f'Your new password is {new_password}')\n",
    "\n",
    "\n",
    "    \n"
   ]
  },
  {
   "cell_type": "code",
   "execution_count": 88,
   "id": "f050965d",
   "metadata": {
    "scrolled": true
   },
   "outputs": [
    {
     "data": {
      "text/plain": [
       "'sdfe'"
      ]
     },
     "execution_count": 88,
     "metadata": {},
     "output_type": "execute_result"
    }
   ],
   "source": [
    "alist = [\"s\",\"d\",\"f\",\"e\"]\n",
    "\"\".join(alist)"
   ]
  },
  {
   "cell_type": "code",
   "execution_count": null,
   "id": "2304e16a",
   "metadata": {},
   "outputs": [],
   "source": []
  }
 ],
 "metadata": {
  "kernelspec": {
   "display_name": "Python 3",
   "language": "python",
   "name": "python3"
  },
  "language_info": {
   "codemirror_mode": {
    "name": "ipython",
    "version": 3
   },
   "file_extension": ".py",
   "mimetype": "text/x-python",
   "name": "python",
   "nbconvert_exporter": "python",
   "pygments_lexer": "ipython3",
   "version": "3.8.8"
  }
 },
 "nbformat": 4,
 "nbformat_minor": 5
}
